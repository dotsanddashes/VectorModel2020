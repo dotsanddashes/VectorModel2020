{
 "cells": [
  {
   "cell_type": "code",
   "execution_count": 85,
   "metadata": {},
   "outputs": [],
   "source": [
    "from bs4 import BeautifulSoup\n",
    "from razdel import tokenize\n",
    "import re\n",
    "import gensim"
   ]
  },
  {
   "cell_type": "code",
   "execution_count": 2,
   "metadata": {},
   "outputs": [],
   "source": [
    "def tokenization(text):\n",
    "    tokens = list(tokenize(text.lower()))\n",
    "    tokens = [_.text for _ in tokens]\n",
    "    tokens_str = ' '.join(tokens)\n",
    "    return tokens_str"
   ]
  },
  {
   "cell_type": "code",
   "execution_count": 3,
   "metadata": {},
   "outputs": [],
   "source": [
    "with open('annot.opcorpora.xml', encoding='utf-8') as f:\n",
    "    text = f.read()\n",
    "    soup = BeautifulSoup(text, 'xml')\n",
    "    clean_text = soup('source')\n",
    "    clean_text = [tag.text for tag in clean_text]\n",
    "\n",
    "with open('corpus.txt', 'w', encoding='utf-8') as f:\n",
    "    for sentence in clean_text:\n",
    "        f.write(tokenization(sentence) + '\\n')"
   ]
  },
  {
   "cell_type": "code",
   "execution_count": 81,
   "metadata": {},
   "outputs": [],
   "source": [
    "seed_markers = ['если', 'ежели', 'коли', 'коль', 'коль_скоро', 'кабы', 'когда_бы', \n",
    "                'в_случае_если', 'в_том_случае_если', 'в_случае_,_если', 'в_том_случае_,_если', \n",
    "                'при_условии_если', 'при_том_условии_если', 'при_условии_,_если', 'при_том_условии_,_если',\n",
    "                'при_условии_что', 'при_том_условии_что', 'при_условии_,_что', 'при_том_условии_,_что']\n",
    "\n",
    "pattern1 = re.compile('в ([а-я\\-]+ )*случае( )*(\\, )*([а-я\\-]+)*')\n",
    "pattern2 = re.compile('при ([а-я\\-]+ )*условии( )*(\\, )*([а-я\\-]+)*')\n",
    "pattern3 = re.compile('в ([а-я\\-]+ )*случаях( )*(\\, )*([а-я\\-]+)*')\n",
    "pattern4 = re.compile('при ([а-я\\-]+ )*условиях( )*(\\, )*([а-я\\-]+)*')\n",
    "\n",
    "after_comma = re.compile('\\, ([а-я\\-]+ ((если)|(когда)|(только)|(пока)))')\n",
    "\n",
    "def regex_multitokens(text, pattern):\n",
    "    \n",
    "    while pattern.search(text) != None:\n",
    "        result = pattern.search(text)\n",
    "        space = result.group(0)\n",
    "        no_space = re.sub(' ', '_', space)\n",
    "        text = re.sub(space, no_space, text)\n",
    "        \n",
    "    return text\n",
    "\n",
    "def seed_multitokens(text):\n",
    "    \n",
    "    text = text.replace('коль скоро', 'коль_скоро')\n",
    "    text = text.replace('когда бы', 'когда_бы')\n",
    "    \n",
    "    return text\n",
    "\n",
    "def pattern_multitokens(text):\n",
    "    \n",
    "    text = regex_multitokens(text, pattern1)\n",
    "    text = regex_multitokens(text, pattern2)\n",
    "    text = regex_multitokens(text, pattern3)\n",
    "    text = regex_multitokens(text, pattern4)\n",
    "    \n",
    "    while after_comma.search(text) != None:\n",
    "        result = after_comma.search(text)\n",
    "        space = result.group(1)\n",
    "        no_space = re.sub(' ', '_', space)\n",
    "        text = re.sub(space, no_space, text)\n",
    "    \n",
    "    return text"
   ]
  },
  {
   "cell_type": "code",
   "execution_count": 82,
   "metadata": {},
   "outputs": [],
   "source": [
    "stopwords = ['же', 'ж', 'ну', 'а', 'даже', 'лишь', 'и']\n",
    "\n",
    "with open('corpus.txt', 'r', encoding='utf-8') as f:\n",
    "    lines = f.readlines()\n",
    "\n",
    "clean_lines = []\n",
    "for line in lines:\n",
    "    words = line.split(' ')\n",
    "    words = [word for word in words if word not in stopwords]\n",
    "    if len(words) >= 2 and (words[1] == 'если' or words[1] == 'когда' \n",
    "        or words[1] == 'только' or words[1] == 'пока'):\n",
    "        words[1] = str(words[0]) + '_' + str(words[1])\n",
    "        words.pop(0)\n",
    "    clean_lines.append(' '.join(words))\n",
    "    \n",
    "\n",
    "with open('corpus.txt', 'w', encoding='utf-8') as f:\n",
    "    for line in clean_lines:\n",
    "        f.write(line + '\\n')\n",
    "        \n",
    "with open('corpus.txt', 'r', encoding='utf-8') as f:\n",
    "    text = f.read()\n",
    "    text = seed_multitokens(text)\n",
    "    text = pattern_multitokens(text)\n",
    "\n",
    "with open('corpus_multi.txt', 'w', encoding='utf-8') as f:\n",
    "    f.write(text)"
   ]
  },
  {
   "cell_type": "code",
   "execution_count": 105,
   "metadata": {},
   "outputs": [],
   "source": [
    "data = gensim.models.word2vec.LineSentence('corpus_multi.txt')\n",
    "model = gensim.models.Word2Vec(data, size = 200, sg=1, iter=10)\n",
    "model.save('condition.model')"
   ]
  },
  {
   "cell_type": "code",
   "execution_count": 95,
   "metadata": {},
   "outputs": [],
   "source": [
    "word_vectors = model.wv"
   ]
  },
  {
   "cell_type": "code",
   "execution_count": 109,
   "metadata": {},
   "outputs": [
    {
     "name": "stdout",
     "output_type": "stream",
     "text": [
      "если\n",
      "['но_если', 'что_если', '«_если', 'ли', 'пусть', 'то', 'наверняка', 'в_том_случае_,_если', 'только_если', 'иностранец', 'вряд', 'вот_если', 'туристическая', 'если_только', 'виза', 'зачем', '•если', 'но_пока', 'фактически', 'иное']\n",
      "ежели\n",
      "['ну-ка', 'поди', 'игнатьевна', ':(', 'коли', 'клиневич', 'негодяй', 'сохрани', 'умею', 'умница', 'боже', 'давай', 'ух', 'слышите', 'я-то', 'желаете', 'братец', 'голубчик', 'душегубец', 'ей-богу']\n",
      "коли\n",
      "['братцы', 'ну-ка', 'ежели', '....', 'ей-богу', 'ванька', 'зобар', '=)', 'еле', 'умею', 'клиневич', 'ладно', 'послушай', 'девку', 'люблю', 'радде', ':(', 'лойко', 'игнатьевна', 'смотри']\n",
      "коль\n",
      "['приедете', 'роскомнадзору', 'предлагаете', 'управа', 'свершилось', 'набираетесь', 'пройдете', 'ваш-то', 'попенял', 'моментальный', 'спуску', 'стремитесь', 'отрицаете', 'ощущениям', 'называете', 'спекулировать', 'покушать', 'удосужились', 'машинисту', 'украинцам']\n",
      "коль_скоро\n",
      "['ляжем', 'субтитры', 'текстуры', 'худыми', 'вежливость', 'мумию', 'испортишь', 'мне-то', 'жалованья', 'приеду', 'прощаюсь', 'подействовало', 'поджидал', 'спецэффекты', 'наговорила', 'отходчивый', 'учитесь', 'лежа', 'тестовый', 'ошиблась']\n",
      "кабы\n",
      "['лакею', 'недольман', 'идёшь', 'поминай', 'проси', 'приставай', 'недоумении', 'повернувшись', 'бирюка', 'лору', 'приедешь', 'молодцов', 'штопор', 'представлю', 'ляг', 'заблудился', 'лгу', 'сатана', 'выстрелил', 'улыбнулась']\n",
      "когда_бы\n",
      "['деваться', 'убедились', 'прошибать', 'встретимся', 'расслабиться', 'выхожу', 'танцевали', 'впору', 'потанцевать', 'гарантированно', 'проведать', 'удосужились', 'грандиозное', 'спешить', 'искреннее', 'собираешься', 'ведь_когда', 'лежим', 'вспоминали', 'услышат']\n",
      "в_случае_если\n",
      "['подтвердятся', 'свыклись', 'выбираем', 'какбе', 'в_любом_случае_,_это', 'абстрактно', 'десятилетием', 'тормозить', 'продолжаете', '\"_пока', 'отказывая', 'графе', 'это_если', 'внушает', 'чём-нибудь', 'неприлично', 'совместить', 'оговориться', 'рисуете', 'войдите']\n",
      "в_том_случае_,_если\n",
      "['уважительным', 'будет_только', 'соблазн', 'визой', 'оказываться', 'беспрепятственно', 'достоверно', 'приглашающая', '•если', 'подтвердить', 'расчетам', 'позициям', 'оцениваться', 'приглашениям', 'осторожным', 'отдельности', 'правомерным', 'попросить', 'достоверным', 'туроператора']\n",
      "при_условии_,_что\n",
      "['удовлетворять', 'заданные', 'различную', 'производиться', 'образовывать', 'носителе', 'минимальные', 'предоставлять', 'накладываемые', 'выданы', 'достаточные', 'определенном', 'учреждаться', 'интерпретацию', 'подтверждаться', 'обеспечивающие', 'разброс', 'тт', 'системно', 'количественную']\n"
     ]
    }
   ],
   "source": [
    "candidates = {}\n",
    "for marker in seed_markers:\n",
    "    if marker in word_vectors.vocab:\n",
    "        top20 = word_vectors.most_similar(positive = marker, topn = 20)\n",
    "        candidates[marker] = [i[0] for i in top20]\n",
    "\n",
    "for k, v in candidates.items():\n",
    "    print(k)\n",
    "    print(v)"
   ]
  },
  {
   "cell_type": "code",
   "execution_count": 110,
   "metadata": {},
   "outputs": [
    {
     "data": {
      "text/plain": [
       "10"
      ]
     },
     "execution_count": 110,
     "metadata": {},
     "output_type": "execute_result"
    }
   ],
   "source": [
    "len(candidates.keys())"
   ]
  },
  {
   "cell_type": "code",
   "execution_count": 111,
   "metadata": {},
   "outputs": [
    {
     "data": {
      "text/plain": [
       "19"
      ]
     },
     "execution_count": 111,
     "metadata": {},
     "output_type": "execute_result"
    }
   ],
   "source": [
    "len(seed_markers)"
   ]
  },
  {
   "cell_type": "code",
   "execution_count": 112,
   "metadata": {},
   "outputs": [
    {
     "name": "stdout",
     "output_type": "stream",
     "text": [
      "в_том_случае_если\n",
      "в_случае_,_если\n",
      "при_условии_если\n",
      "при_том_условии_если\n",
      "при_условии_,_если\n",
      "при_том_условии_,_если\n",
      "при_условии_что\n",
      "при_том_условии_что\n",
      "при_том_условии_,_что\n"
     ]
    }
   ],
   "source": [
    "for marker in seed_markers:\n",
    "    if marker not in word_vectors.vocab:\n",
    "        print(marker)"
   ]
  },
  {
   "cell_type": "code",
   "execution_count": null,
   "metadata": {},
   "outputs": [],
   "source": []
  }
 ],
 "metadata": {
  "kernelspec": {
   "display_name": "Python 3",
   "language": "python",
   "name": "python3"
  },
  "language_info": {
   "codemirror_mode": {
    "name": "ipython",
    "version": 3
   },
   "file_extension": ".py",
   "mimetype": "text/x-python",
   "name": "python",
   "nbconvert_exporter": "python",
   "pygments_lexer": "ipython3",
   "version": "3.8.3"
  }
 },
 "nbformat": 4,
 "nbformat_minor": 4
}
